{
 "cells": [
  {
   "cell_type": "markdown",
   "metadata": {},
   "source": [
    "# 實作練習\n",
    "## Kaggle鐵達尼號生還者預測\n"
   ]
  },
  {
   "cell_type": "markdown",
   "metadata": {},
   "source": [
    "### import必要套件"
   ]
  },
  {
   "cell_type": "code",
   "execution_count": 99,
   "metadata": {},
   "outputs": [],
   "source": [
    "import pandas as pd\n",
    "import matplotlib.pyplot as plt\n",
    "from sklearn import datasets , preprocessing , linear_model\n",
    "from sklearn.linear_model import LogisticRegression"
   ]
  },
  {
   "cell_type": "markdown",
   "metadata": {},
   "source": [
    "讀取訓練資料檔案(csv)"
   ]
  },
  {
   "cell_type": "code",
   "execution_count": 128,
   "metadata": {},
   "outputs": [
    {
     "data": {
      "text/html": [
       "<div>\n",
       "<style scoped>\n",
       "    .dataframe tbody tr th:only-of-type {\n",
       "        vertical-align: middle;\n",
       "    }\n",
       "\n",
       "    .dataframe tbody tr th {\n",
       "        vertical-align: top;\n",
       "    }\n",
       "\n",
       "    .dataframe thead th {\n",
       "        text-align: right;\n",
       "    }\n",
       "</style>\n",
       "<table border=\"1\" class=\"dataframe\">\n",
       "  <thead>\n",
       "    <tr style=\"text-align: right;\">\n",
       "      <th></th>\n",
       "      <th>PassengerId</th>\n",
       "      <th>Survived</th>\n",
       "      <th>Pclass</th>\n",
       "      <th>Name</th>\n",
       "      <th>Sex</th>\n",
       "      <th>Age</th>\n",
       "      <th>SibSp</th>\n",
       "      <th>Parch</th>\n",
       "      <th>Ticket</th>\n",
       "      <th>Fare</th>\n",
       "      <th>Cabin</th>\n",
       "      <th>Embarked</th>\n",
       "    </tr>\n",
       "  </thead>\n",
       "  <tbody>\n",
       "    <tr>\n",
       "      <th>0</th>\n",
       "      <td>1</td>\n",
       "      <td>0</td>\n",
       "      <td>3</td>\n",
       "      <td>Braund, Mr. Owen Harris</td>\n",
       "      <td>male</td>\n",
       "      <td>22.0</td>\n",
       "      <td>1</td>\n",
       "      <td>0</td>\n",
       "      <td>A/5 21171</td>\n",
       "      <td>7.2500</td>\n",
       "      <td>NaN</td>\n",
       "      <td>S</td>\n",
       "    </tr>\n",
       "    <tr>\n",
       "      <th>1</th>\n",
       "      <td>2</td>\n",
       "      <td>1</td>\n",
       "      <td>1</td>\n",
       "      <td>Cumings, Mrs. John Bradley (Florence Briggs Th...</td>\n",
       "      <td>female</td>\n",
       "      <td>38.0</td>\n",
       "      <td>1</td>\n",
       "      <td>0</td>\n",
       "      <td>PC 17599</td>\n",
       "      <td>71.2833</td>\n",
       "      <td>C85</td>\n",
       "      <td>C</td>\n",
       "    </tr>\n",
       "    <tr>\n",
       "      <th>2</th>\n",
       "      <td>3</td>\n",
       "      <td>1</td>\n",
       "      <td>3</td>\n",
       "      <td>Heikkinen, Miss. Laina</td>\n",
       "      <td>female</td>\n",
       "      <td>26.0</td>\n",
       "      <td>0</td>\n",
       "      <td>0</td>\n",
       "      <td>STON/O2. 3101282</td>\n",
       "      <td>7.9250</td>\n",
       "      <td>NaN</td>\n",
       "      <td>S</td>\n",
       "    </tr>\n",
       "    <tr>\n",
       "      <th>3</th>\n",
       "      <td>4</td>\n",
       "      <td>1</td>\n",
       "      <td>1</td>\n",
       "      <td>Futrelle, Mrs. Jacques Heath (Lily May Peel)</td>\n",
       "      <td>female</td>\n",
       "      <td>35.0</td>\n",
       "      <td>1</td>\n",
       "      <td>0</td>\n",
       "      <td>113803</td>\n",
       "      <td>53.1000</td>\n",
       "      <td>C123</td>\n",
       "      <td>S</td>\n",
       "    </tr>\n",
       "    <tr>\n",
       "      <th>4</th>\n",
       "      <td>5</td>\n",
       "      <td>0</td>\n",
       "      <td>3</td>\n",
       "      <td>Allen, Mr. William Henry</td>\n",
       "      <td>male</td>\n",
       "      <td>35.0</td>\n",
       "      <td>0</td>\n",
       "      <td>0</td>\n",
       "      <td>373450</td>\n",
       "      <td>8.0500</td>\n",
       "      <td>NaN</td>\n",
       "      <td>S</td>\n",
       "    </tr>\n",
       "    <tr>\n",
       "      <th>...</th>\n",
       "      <td>...</td>\n",
       "      <td>...</td>\n",
       "      <td>...</td>\n",
       "      <td>...</td>\n",
       "      <td>...</td>\n",
       "      <td>...</td>\n",
       "      <td>...</td>\n",
       "      <td>...</td>\n",
       "      <td>...</td>\n",
       "      <td>...</td>\n",
       "      <td>...</td>\n",
       "      <td>...</td>\n",
       "    </tr>\n",
       "    <tr>\n",
       "      <th>886</th>\n",
       "      <td>887</td>\n",
       "      <td>0</td>\n",
       "      <td>2</td>\n",
       "      <td>Montvila, Rev. Juozas</td>\n",
       "      <td>male</td>\n",
       "      <td>27.0</td>\n",
       "      <td>0</td>\n",
       "      <td>0</td>\n",
       "      <td>211536</td>\n",
       "      <td>13.0000</td>\n",
       "      <td>NaN</td>\n",
       "      <td>S</td>\n",
       "    </tr>\n",
       "    <tr>\n",
       "      <th>887</th>\n",
       "      <td>888</td>\n",
       "      <td>1</td>\n",
       "      <td>1</td>\n",
       "      <td>Graham, Miss. Margaret Edith</td>\n",
       "      <td>female</td>\n",
       "      <td>19.0</td>\n",
       "      <td>0</td>\n",
       "      <td>0</td>\n",
       "      <td>112053</td>\n",
       "      <td>30.0000</td>\n",
       "      <td>B42</td>\n",
       "      <td>S</td>\n",
       "    </tr>\n",
       "    <tr>\n",
       "      <th>888</th>\n",
       "      <td>889</td>\n",
       "      <td>0</td>\n",
       "      <td>3</td>\n",
       "      <td>Johnston, Miss. Catherine Helen \"Carrie\"</td>\n",
       "      <td>female</td>\n",
       "      <td>NaN</td>\n",
       "      <td>1</td>\n",
       "      <td>2</td>\n",
       "      <td>W./C. 6607</td>\n",
       "      <td>23.4500</td>\n",
       "      <td>NaN</td>\n",
       "      <td>S</td>\n",
       "    </tr>\n",
       "    <tr>\n",
       "      <th>889</th>\n",
       "      <td>890</td>\n",
       "      <td>1</td>\n",
       "      <td>1</td>\n",
       "      <td>Behr, Mr. Karl Howell</td>\n",
       "      <td>male</td>\n",
       "      <td>26.0</td>\n",
       "      <td>0</td>\n",
       "      <td>0</td>\n",
       "      <td>111369</td>\n",
       "      <td>30.0000</td>\n",
       "      <td>C148</td>\n",
       "      <td>C</td>\n",
       "    </tr>\n",
       "    <tr>\n",
       "      <th>890</th>\n",
       "      <td>891</td>\n",
       "      <td>0</td>\n",
       "      <td>3</td>\n",
       "      <td>Dooley, Mr. Patrick</td>\n",
       "      <td>male</td>\n",
       "      <td>32.0</td>\n",
       "      <td>0</td>\n",
       "      <td>0</td>\n",
       "      <td>370376</td>\n",
       "      <td>7.7500</td>\n",
       "      <td>NaN</td>\n",
       "      <td>Q</td>\n",
       "    </tr>\n",
       "  </tbody>\n",
       "</table>\n",
       "<p>891 rows × 12 columns</p>\n",
       "</div>"
      ],
      "text/plain": [
       "     PassengerId  Survived  Pclass  \\\n",
       "0              1         0       3   \n",
       "1              2         1       1   \n",
       "2              3         1       3   \n",
       "3              4         1       1   \n",
       "4              5         0       3   \n",
       "..           ...       ...     ...   \n",
       "886          887         0       2   \n",
       "887          888         1       1   \n",
       "888          889         0       3   \n",
       "889          890         1       1   \n",
       "890          891         0       3   \n",
       "\n",
       "                                                  Name     Sex   Age  SibSp  \\\n",
       "0                              Braund, Mr. Owen Harris    male  22.0      1   \n",
       "1    Cumings, Mrs. John Bradley (Florence Briggs Th...  female  38.0      1   \n",
       "2                               Heikkinen, Miss. Laina  female  26.0      0   \n",
       "3         Futrelle, Mrs. Jacques Heath (Lily May Peel)  female  35.0      1   \n",
       "4                             Allen, Mr. William Henry    male  35.0      0   \n",
       "..                                                 ...     ...   ...    ...   \n",
       "886                              Montvila, Rev. Juozas    male  27.0      0   \n",
       "887                       Graham, Miss. Margaret Edith  female  19.0      0   \n",
       "888           Johnston, Miss. Catherine Helen \"Carrie\"  female   NaN      1   \n",
       "889                              Behr, Mr. Karl Howell    male  26.0      0   \n",
       "890                                Dooley, Mr. Patrick    male  32.0      0   \n",
       "\n",
       "     Parch            Ticket     Fare Cabin Embarked  \n",
       "0        0         A/5 21171   7.2500   NaN        S  \n",
       "1        0          PC 17599  71.2833   C85        C  \n",
       "2        0  STON/O2. 3101282   7.9250   NaN        S  \n",
       "3        0            113803  53.1000  C123        S  \n",
       "4        0            373450   8.0500   NaN        S  \n",
       "..     ...               ...      ...   ...      ...  \n",
       "886      0            211536  13.0000   NaN        S  \n",
       "887      0            112053  30.0000   B42        S  \n",
       "888      2        W./C. 6607  23.4500   NaN        S  \n",
       "889      0            111369  30.0000  C148        C  \n",
       "890      0            370376   7.7500   NaN        Q  \n",
       "\n",
       "[891 rows x 12 columns]"
      ]
     },
     "execution_count": 128,
     "metadata": {},
     "output_type": "execute_result"
    }
   ],
   "source": [
    "train_data=pd.read_csv(\"train.csv\")   # 將cvs檔案以pandas開啟\n",
    "train_data"
   ]
  },
  {
   "cell_type": "code",
   "execution_count": 80,
   "metadata": {},
   "outputs": [
    {
     "data": {
      "text/plain": [
       "0      male\n",
       "1    female\n",
       "2    female\n",
       "3    female\n",
       "4      male\n",
       "Name: Sex, dtype: object"
      ]
     },
     "execution_count": 80,
     "metadata": {},
     "output_type": "execute_result"
    }
   ],
   "source": [
    "train_data['Sex'][:5]"
   ]
  },
  {
   "cell_type": "code",
   "execution_count": 81,
   "metadata": {},
   "outputs": [
    {
     "data": {
      "text/plain": [
       "PassengerId      0\n",
       "Survived         0\n",
       "Pclass           0\n",
       "Name             0\n",
       "Sex              0\n",
       "Age            177\n",
       "SibSp            0\n",
       "Parch            0\n",
       "Ticket           0\n",
       "Fare             0\n",
       "Cabin          687\n",
       "Embarked         2\n",
       "dtype: int64"
      ]
     },
     "execution_count": 81,
     "metadata": {},
     "output_type": "execute_result"
    }
   ],
   "source": [
    "train_data.isnull().sum() #nam值無法輸入模型"
   ]
  },
  {
   "cell_type": "code",
   "execution_count": 82,
   "metadata": {},
   "outputs": [
    {
     "data": {
      "text/plain": [
       "0      22.0\n",
       "1      38.0\n",
       "2      26.0\n",
       "3      35.0\n",
       "4      35.0\n",
       "       ... \n",
       "885    39.0\n",
       "886    27.0\n",
       "887    19.0\n",
       "889    26.0\n",
       "890    32.0\n",
       "Name: Age, Length: 714, dtype: float64"
      ]
     },
     "execution_count": 82,
     "metadata": {},
     "output_type": "execute_result"
    }
   ],
   "source": [
    "train_data[\"Age\"].dropna()"
   ]
  },
  {
   "cell_type": "code",
   "execution_count": 129,
   "metadata": {},
   "outputs": [
    {
     "data": {
      "text/plain": [
       "0      22.0\n",
       "1      38.0\n",
       "2      26.0\n",
       "3      35.0\n",
       "4      35.0\n",
       "       ... \n",
       "886    27.0\n",
       "887    19.0\n",
       "888    29.0\n",
       "889    26.0\n",
       "890    32.0\n",
       "Name: Age, Length: 891, dtype: float64"
      ]
     },
     "execution_count": 129,
     "metadata": {},
     "output_type": "execute_result"
    }
   ],
   "source": [
    "train_data['Age']=train_data['Age'].fillna(int(train_data['Age'].mean()))\n",
    "train_data['Age']"
   ]
  },
  {
   "cell_type": "code",
   "execution_count": 130,
   "metadata": {},
   "outputs": [
    {
     "data": {
      "text/plain": [
       "0      1\n",
       "1      0\n",
       "2      0\n",
       "3      0\n",
       "4      1\n",
       "      ..\n",
       "886    1\n",
       "887    0\n",
       "888    0\n",
       "889    1\n",
       "890    1\n",
       "Name: Sex, Length: 891, dtype: int32"
      ]
     },
     "execution_count": 130,
     "metadata": {},
     "output_type": "execute_result"
    }
   ],
   "source": [
    "lben=preprocessing.LabelEncoder() #將文字轉換成數字 \n",
    "train_data['Sex']=lben.fit_transform(train_data['Sex'])\n",
    "train_data['Sex']"
   ]
  },
  {
   "cell_type": "code",
   "execution_count": 85,
   "metadata": {},
   "outputs": [
    {
     "name": "stderr",
     "output_type": "stream",
     "text": [
      "c:\\Users\\sw_ya\\AppData\\Local\\Programs\\Python\\Python39\\lib\\site-packages\\sklearn\\preprocessing\\_label.py:114: DataConversionWarning: A column-vector y was passed when a 1d array was expected. Please change the shape of y to (n_samples, ), for example using ravel().\n",
      "  y = column_or_1d(y, warn=True)\n"
     ]
    },
    {
     "data": {
      "text/plain": [
       "array([8, 2, 8, 2, 8, 8, 4, 8, 8, 8, 6, 2, 8, 8, 8, 8, 8, 8, 8, 8, 8, 3,\n",
       "       8, 0, 8, 8, 8, 2, 8, 8, 8, 1, 8, 8, 8, 8, 8, 8, 8, 8, 8, 8, 8, 8,\n",
       "       8, 8, 8, 8, 8, 8, 8, 8, 3, 8, 1, 2, 8, 8, 8, 8, 8, 1, 2, 8, 8, 8,\n",
       "       5, 8, 8, 8, 8, 8, 8, 8, 8, 5, 8, 8, 8, 8, 8, 8, 8, 8, 8, 8, 8, 8,\n",
       "       2, 8, 8, 8, 4, 8, 8, 8, 0, 3, 8, 8, 8, 8, 3, 8, 8, 8, 8, 8, 8, 8,\n",
       "       2, 8, 8, 8, 8, 8, 8, 8, 1, 8, 8, 8, 8, 4, 3, 8, 8, 8, 5, 8, 8, 8,\n",
       "       8, 8, 8, 8, 3, 2, 8, 1, 8, 8, 8, 8, 8, 8, 8, 8, 5, 8, 8, 2, 8, 8,\n",
       "       8, 8, 8, 8, 8, 8, 8, 8, 8, 8, 8, 8, 4, 8, 8, 8, 1, 8, 8, 8, 0, 8,\n",
       "       8, 2, 8, 8, 8, 8, 8, 5, 8, 0, 8, 8, 8, 8, 8, 8, 8, 5, 1, 1, 8, 8,\n",
       "       8, 8, 8, 8, 8, 8, 8, 6, 8, 8, 8, 0, 8, 8, 8, 8, 8, 3, 8, 8, 3, 8,\n",
       "       8, 8, 8, 8, 2, 8, 8, 8, 8, 8, 2, 8, 8, 8, 8, 8, 8, 8, 8, 8, 8, 8,\n",
       "       8, 8, 8, 2, 8, 8, 3, 8, 8, 6, 2, 8, 8, 8, 8, 1, 8, 8, 8, 8, 4, 1,\n",
       "       8, 8, 8, 8, 2, 2, 8, 8, 8, 2, 8, 3, 8, 8, 8, 8, 8, 8, 8, 8, 0, 8,\n",
       "       8, 8, 8, 8, 8, 1, 3, 8, 8, 8, 8, 2, 2, 1, 8, 8, 8, 4, 8, 2, 8, 2,\n",
       "       8, 4, 2, 1, 8, 8, 8, 8, 8, 8, 2, 4, 8, 8, 8, 8, 8, 2, 8, 3, 8, 1,\n",
       "       8, 2, 2, 8, 8, 8, 2, 4, 8, 7, 5, 2, 8, 8, 8, 5, 8, 8, 8, 8, 8, 2,\n",
       "       8, 8, 8, 8, 4, 8, 8, 8, 8, 8, 8, 8, 8, 8, 3, 8, 8, 1, 4, 8, 8, 8,\n",
       "       8, 8, 8, 2, 8, 8, 8, 8, 8, 8, 8, 8, 8, 8, 8, 8, 1, 8, 8, 3, 6, 8,\n",
       "       8, 8, 8, 8, 8, 8, 8, 8, 8, 8, 8, 8, 8, 8, 8, 8, 2, 8, 8, 8, 8, 8,\n",
       "       8, 8, 8, 8, 8, 8, 8, 8, 8, 8, 8, 4, 2, 8, 8, 8, 4, 1, 8, 8, 2, 8,\n",
       "       8, 8, 8, 8, 8, 0, 8, 8, 8, 2, 8, 8, 2, 2, 8, 8, 4, 3, 8, 8, 4, 8,\n",
       "       4, 8, 8, 8, 8, 8, 8, 8, 8, 8, 8, 3, 8, 0, 8, 8, 8, 8, 8, 8, 8, 8,\n",
       "       1, 8, 2, 1, 8, 8, 8, 8, 2, 8, 8, 8, 3, 8, 2, 8, 8, 8, 8, 8, 1, 2,\n",
       "       8, 8, 8, 8, 8, 8, 4, 8, 8, 3, 5, 8, 8, 8, 1, 8, 8, 1, 8, 8, 8, 2,\n",
       "       8, 8, 8, 8, 8, 8, 8, 8, 1, 8, 8, 1, 1, 8, 8, 8, 2, 8, 8, 8, 8, 8,\n",
       "       2, 8, 8, 8, 8, 8, 0, 8, 4, 8, 8, 8, 8, 8, 8, 8, 8, 8, 8, 8, 8, 2,\n",
       "       4, 8, 8, 8, 8, 4, 8, 8, 8, 2, 8, 0, 8, 4, 8, 1, 8, 8, 8, 3, 8, 8,\n",
       "       8, 8, 8, 8, 8, 0, 8, 8, 8, 8, 8, 8, 8, 8, 8, 2, 8, 8, 8, 8, 8, 8,\n",
       "       8, 8, 5, 8, 8, 3, 8, 8, 8, 3, 8, 3, 8, 8, 0, 8, 1, 8, 8, 8, 8, 8,\n",
       "       8, 8, 8, 1, 8, 8, 8, 3, 8, 0, 8, 8, 8, 8, 8, 8, 8, 8, 8, 8, 8, 3,\n",
       "       8, 8, 4, 8, 8, 8, 8, 8, 8, 2, 8, 1, 8, 8, 8, 8, 8, 8, 8, 1, 8, 3,\n",
       "       8, 8, 8, 8, 8, 8, 8, 1, 1, 8, 8, 8, 8, 8, 8, 8, 2, 5, 2, 4, 8, 8,\n",
       "       8, 8, 8, 4, 8, 8, 2, 2, 2, 8, 8, 5, 2, 4, 8, 8, 8, 8, 8, 8, 4, 8,\n",
       "       8, 8, 8, 8, 1, 8, 8, 8, 8, 8, 8, 1, 8, 8, 3, 2, 1, 8, 8, 1, 8, 8,\n",
       "       3, 8, 8, 4, 8, 8, 8, 8, 8, 8, 8, 1, 8, 8, 8, 1, 8, 3, 8, 8, 8, 8,\n",
       "       8, 8, 4, 8, 8, 8, 5, 8, 8, 1, 8, 1, 3, 8, 8, 8, 8, 8, 8, 1, 8, 8,\n",
       "       8, 8, 8, 8, 3, 8, 8, 8, 8, 8, 1, 8, 8, 8, 0, 8, 8, 4, 8, 8, 8, 8,\n",
       "       8, 1, 8, 8, 8, 8, 1, 8, 8, 4, 8, 8, 8, 8, 8, 1, 8, 8, 8, 8, 8, 4,\n",
       "       8, 8, 8, 2, 8, 8, 8, 8, 8, 8, 8, 8, 8, 2, 8, 8, 8, 3, 8, 8, 8, 4,\n",
       "       8, 8, 8, 8, 3, 8, 8, 8, 8, 0, 8, 8, 8, 3, 1, 8, 8, 8, 8, 8, 8, 2,\n",
       "       8, 8, 8, 8, 8, 8, 8, 1, 8, 2, 8])"
      ]
     },
     "execution_count": 85,
     "metadata": {},
     "output_type": "execute_result"
    }
   ],
   "source": [
    "train_data['Cabin'][:5]\n",
    "cabin_data = train_data['Cabin']\n",
    "\n",
    "# 使用正则表达式提取英文字母部分\n",
    "letters = cabin_data.str.extract(r'([A-Za-z]+)')\n",
    "letters_filled = letters.fillna(\"Unknown\")\n",
    "letters_filled=lben.fit_transform(letters_filled)\n",
    "letters_filled\n",
    "\n",
    "\n"
   ]
  },
  {
   "cell_type": "code",
   "execution_count": 131,
   "metadata": {},
   "outputs": [
    {
     "data": {
      "text/plain": [
       "0       7.2500\n",
       "1      71.2833\n",
       "2       7.9250\n",
       "3      53.1000\n",
       "4       8.0500\n",
       "        ...   \n",
       "886    13.0000\n",
       "887    30.0000\n",
       "888    23.4500\n",
       "889    30.0000\n",
       "890     7.7500\n",
       "Name: Fare, Length: 891, dtype: float64"
      ]
     },
     "execution_count": 131,
     "metadata": {},
     "output_type": "execute_result"
    }
   ],
   "source": [
    "\n",
    "# print(train_data['Fare'][:5])\n",
    "# num_rows = train_data.shape[0]\n",
    "# for i in range(num_rows):\n",
    "#     if train_data['Fare'][i]>70:\n",
    "#         train_data['Fare'][i]=0\n",
    "#     elif train_data['Fare'][i]<=70 and train_data['Fare'][i]>50:\n",
    "#         train_data['Fare'][i]=1\n",
    "#     elif train_data['Fare'][i]<=50 and train_data['Fare'][i]>30:\n",
    "#         train_data['Fare'][i]=2\n",
    "#     elif train_data['Fare'][i]<=30 and train_data['Fare'][i]>10:\n",
    "#         train_data['Fare'][i]=3\n",
    "#     else:\n",
    "#         train_data['Fare'][i]=4\n",
    "\n",
    "\n",
    "train_data['Fare']\n"
   ]
  },
  {
   "cell_type": "code",
   "execution_count": 132,
   "metadata": {},
   "outputs": [
    {
     "data": {
      "text/plain": [
       "0      3\n",
       "1      1\n",
       "2      3\n",
       "3      1\n",
       "4      3\n",
       "      ..\n",
       "886    2\n",
       "887    1\n",
       "888    3\n",
       "889    1\n",
       "890    3\n",
       "Name: Pclass, Length: 891, dtype: int64"
      ]
     },
     "execution_count": 132,
     "metadata": {},
     "output_type": "execute_result"
    }
   ],
   "source": [
    "train_data['Pclass']"
   ]
  },
  {
   "cell_type": "code",
   "execution_count": 133,
   "metadata": {},
   "outputs": [
    {
     "data": {
      "text/plain": [
       "0      2\n",
       "1      0\n",
       "2      2\n",
       "3      2\n",
       "4      2\n",
       "      ..\n",
       "886    2\n",
       "887    2\n",
       "888    2\n",
       "889    0\n",
       "890    1\n",
       "Name: Embarked, Length: 891, dtype: int32"
      ]
     },
     "execution_count": 133,
     "metadata": {},
     "output_type": "execute_result"
    }
   ],
   "source": [
    "train_data['Embarked']\n",
    "most_common_embarked = train_data['Embarked'].value_counts().idxmax()\n",
    "train_data['Embarked']=train_data['Embarked'].fillna(most_common_embarked)\n",
    "train_data['Embarked']=lben.fit_transform(train_data['Embarked'])\n",
    "train_data['Embarked']"
   ]
  },
  {
   "cell_type": "code",
   "execution_count": 151,
   "metadata": {},
   "outputs": [
    {
     "name": "stdout",
     "output_type": "stream",
     "text": [
      "特徵的權重： [[-2.50384441e+00 -1.10890102e+00 -5.08795738e-05 -2.72126524e-01\n",
      "  -3.25964641e-02]]\n",
      "訓練準確度 0.7901234567901234\n"
     ]
    }
   ],
   "source": [
    "x=pd.DataFrame([train_data['Sex'],train_data['Pclass'],train_data['Fare'],train_data['Embarked'],train_data['Age']]).T\n",
    "y=train_data['Survived']\n",
    "model=LogisticRegression()\n",
    "model.fit(x,y)\n",
    "feature_weights = model.coef_\n",
    "print(\"特徵的權重：\", feature_weights)\n",
    "print('訓練準確度',model.score(x,y))\n"
   ]
  },
  {
   "cell_type": "code",
   "execution_count": 11,
   "metadata": {},
   "outputs": [],
   "source": [
    "test_df=pd.read_csv('test.csv')\n",
    "test_df['Age']=test_df['Age'].fillna(int(train_data['Age'].mean()))\n",
    "test_df['Sex']=lben.fit_transform(test_df['Sex'])\n",
    "x_test=pd.DataFrame([test_df['Sex'],test_df['Age']]).T\n",
    "y_test=model.predict(x_test)\n",
    "test_df['Survived']=pd.DataFrame(y_test)\n",
    "output=pd.DataFrame([test_df['PassengerId'],test_df['Survived']]).T\n",
    "output.to_csv('sub.csv',index=False)"
   ]
  }
 ],
 "metadata": {
  "kernelspec": {
   "display_name": "aienv",
   "language": "python",
   "name": "python3"
  },
  "language_info": {
   "codemirror_mode": {
    "name": "ipython",
    "version": 3
   },
   "file_extension": ".py",
   "mimetype": "text/x-python",
   "name": "python",
   "nbconvert_exporter": "python",
   "pygments_lexer": "ipython3",
   "version": "3.9.11"
  },
  "orig_nbformat": 4
 },
 "nbformat": 4,
 "nbformat_minor": 2
}
